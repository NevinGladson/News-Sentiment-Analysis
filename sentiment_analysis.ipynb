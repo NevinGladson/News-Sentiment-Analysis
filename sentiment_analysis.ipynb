{
 "cells": [
  {
   "cell_type": "code",
   "execution_count": 394,
   "metadata": {},
   "outputs": [],
   "source": [
    "import pandas as pd\n",
    "import numpy as np\n",
    "import matplotlib.pyplot as plt  # Importing the built-in libraries\n",
    "import seaborn as sb\n",
    "import sys\n",
    "import csv\n",
    "maxInt = sys.maxsize\n",
    "%matplotlib inline"
   ]
  },
  {
   "cell_type": "code",
   "execution_count": 395,
   "metadata": {},
   "outputs": [
    {
     "data": {
      "text/html": [
       "<div>\n",
       "<style scoped>\n",
       "    .dataframe tbody tr th:only-of-type {\n",
       "        vertical-align: middle;\n",
       "    }\n",
       "\n",
       "    .dataframe tbody tr th {\n",
       "        vertical-align: top;\n",
       "    }\n",
       "\n",
       "    .dataframe thead th {\n",
       "        text-align: right;\n",
       "    }\n",
       "</style>\n",
       "<table border=\"1\" class=\"dataframe\">\n",
       "  <thead>\n",
       "    <tr style=\"text-align: right;\">\n",
       "      <th></th>\n",
       "      <th>Unnamed: 0</th>\n",
       "      <th>id</th>\n",
       "      <th>title</th>\n",
       "      <th>publication</th>\n",
       "      <th>author</th>\n",
       "      <th>date</th>\n",
       "      <th>year</th>\n",
       "      <th>month</th>\n",
       "      <th>url</th>\n",
       "      <th>content</th>\n",
       "    </tr>\n",
       "  </thead>\n",
       "  <tbody>\n",
       "    <tr>\n",
       "      <th>0</th>\n",
       "      <td>0</td>\n",
       "      <td>17283</td>\n",
       "      <td>House Republicans Fret About Winning Their Hea...</td>\n",
       "      <td>New York Times</td>\n",
       "      <td>Carl Hulse</td>\n",
       "      <td>2016-12-31</td>\n",
       "      <td>2016.0</td>\n",
       "      <td>12.0</td>\n",
       "      <td>NaN</td>\n",
       "      <td>WASHINGTON  â€”   Congressional Republicans ha...</td>\n",
       "    </tr>\n",
       "    <tr>\n",
       "      <th>1</th>\n",
       "      <td>1</td>\n",
       "      <td>17284</td>\n",
       "      <td>Rift Between Officers and Residents as Killing...</td>\n",
       "      <td>New York Times</td>\n",
       "      <td>Benjamin Mueller and Al Baker</td>\n",
       "      <td>2017-06-19</td>\n",
       "      <td>2017.0</td>\n",
       "      <td>6.0</td>\n",
       "      <td>NaN</td>\n",
       "      <td>After the bullet shells get counted, the blood...</td>\n",
       "    </tr>\n",
       "    <tr>\n",
       "      <th>2</th>\n",
       "      <td>2</td>\n",
       "      <td>17285</td>\n",
       "      <td>Tyrus Wong, â€˜Bambiâ€™ Artist Thwarted by Rac...</td>\n",
       "      <td>New York Times</td>\n",
       "      <td>Margalit Fox</td>\n",
       "      <td>2017-01-06</td>\n",
       "      <td>2017.0</td>\n",
       "      <td>1.0</td>\n",
       "      <td>NaN</td>\n",
       "      <td>When Walt Disneyâ€™s â€œBambiâ€� opened in 194...</td>\n",
       "    </tr>\n",
       "    <tr>\n",
       "      <th>3</th>\n",
       "      <td>3</td>\n",
       "      <td>17286</td>\n",
       "      <td>Among Deaths in 2016, a Heavy Toll in Pop Musi...</td>\n",
       "      <td>New York Times</td>\n",
       "      <td>William McDonald</td>\n",
       "      <td>2017-04-10</td>\n",
       "      <td>2017.0</td>\n",
       "      <td>4.0</td>\n",
       "      <td>NaN</td>\n",
       "      <td>Death may be the great equalizer, but it isnâ€...</td>\n",
       "    </tr>\n",
       "    <tr>\n",
       "      <th>4</th>\n",
       "      <td>4</td>\n",
       "      <td>17287</td>\n",
       "      <td>Kim Jong-un Says North Korea Is Preparing to T...</td>\n",
       "      <td>New York Times</td>\n",
       "      <td>Choe Sang-Hun</td>\n",
       "      <td>2017-01-02</td>\n",
       "      <td>2017.0</td>\n",
       "      <td>1.0</td>\n",
       "      <td>NaN</td>\n",
       "      <td>SEOUL, South Korea  â€”   North Koreaâ€™s lead...</td>\n",
       "    </tr>\n",
       "  </tbody>\n",
       "</table>\n",
       "</div>"
      ],
      "text/plain": [
       "   Unnamed: 0     id                                              title  \\\n",
       "0           0  17283  House Republicans Fret About Winning Their Hea...   \n",
       "1           1  17284  Rift Between Officers and Residents as Killing...   \n",
       "2           2  17285  Tyrus Wong, â€˜Bambiâ€™ Artist Thwarted by Rac...   \n",
       "3           3  17286  Among Deaths in 2016, a Heavy Toll in Pop Musi...   \n",
       "4           4  17287  Kim Jong-un Says North Korea Is Preparing to T...   \n",
       "\n",
       "      publication                         author        date    year  month  \\\n",
       "0  New York Times                     Carl Hulse  2016-12-31  2016.0   12.0   \n",
       "1  New York Times  Benjamin Mueller and Al Baker  2017-06-19  2017.0    6.0   \n",
       "2  New York Times                   Margalit Fox  2017-01-06  2017.0    1.0   \n",
       "3  New York Times               William McDonald  2017-04-10  2017.0    4.0   \n",
       "4  New York Times                  Choe Sang-Hun  2017-01-02  2017.0    1.0   \n",
       "\n",
       "   url                                            content  \n",
       "0  NaN  WASHINGTON  â€”   Congressional Republicans ha...  \n",
       "1  NaN  After the bullet shells get counted, the blood...  \n",
       "2  NaN  When Walt Disneyâ€™s â€œBambiâ€� opened in 194...  \n",
       "3  NaN  Death may be the great equalizer, but it isnâ€...  \n",
       "4  NaN  SEOUL, South Korea  â€”   North Koreaâ€™s lead...  "
      ]
     },
     "execution_count": 395,
     "metadata": {},
     "output_type": "execute_result"
    }
   ],
   "source": [
    "while True:\n",
    "    # decrease the maxInt value by factor 10 \n",
    "    # as long as the OverflowError occurs.\n",
    "\n",
    "    try:\n",
    "        csv.field_size_limit(maxInt)\n",
    "        break\n",
    "    except OverflowError:\n",
    "        maxInt = int(maxInt/10)\n",
    "df=pd.read_csv(\"articles1.csv\",engine='python')    # Reading the dataframe\n",
    "df.head(5)"
   ]
  },
  {
   "cell_type": "code",
   "execution_count": 396,
   "metadata": {},
   "outputs": [
    {
     "data": {
      "text/plain": [
       "(50000, 10)"
      ]
     },
     "execution_count": 396,
     "metadata": {},
     "output_type": "execute_result"
    }
   ],
   "source": [
    "#to find shape\n",
    "df.shape"
   ]
  },
  {
   "cell_type": "code",
   "execution_count": 397,
   "metadata": {},
   "outputs": [
    {
     "data": {
      "text/plain": [
       "0"
      ]
     },
     "execution_count": 397,
     "metadata": {},
     "output_type": "execute_result"
    }
   ],
   "source": [
    "#To find duplicates\n",
    "df.duplicated('id').sum()"
   ]
  },
  {
   "cell_type": "code",
   "execution_count": 398,
   "metadata": {},
   "outputs": [
    {
     "data": {
      "text/plain": [
       "Index(['Unnamed: 0', 'id', 'title', 'publication', 'author', 'date', 'year',\n",
       "       'month', 'url', 'content'],\n",
       "      dtype='object')"
      ]
     },
     "execution_count": 398,
     "metadata": {},
     "output_type": "execute_result"
    }
   ],
   "source": [
    "df.columns"
   ]
  },
  {
   "cell_type": "code",
   "execution_count": 399,
   "metadata": {},
   "outputs": [
    {
     "data": {
      "text/html": [
       "<div>\n",
       "<style scoped>\n",
       "    .dataframe tbody tr th:only-of-type {\n",
       "        vertical-align: middle;\n",
       "    }\n",
       "\n",
       "    .dataframe tbody tr th {\n",
       "        vertical-align: top;\n",
       "    }\n",
       "\n",
       "    .dataframe thead th {\n",
       "        text-align: right;\n",
       "    }\n",
       "</style>\n",
       "<table border=\"1\" class=\"dataframe\">\n",
       "  <thead>\n",
       "    <tr style=\"text-align: right;\">\n",
       "      <th></th>\n",
       "      <th>title</th>\n",
       "      <th>publication</th>\n",
       "      <th>author</th>\n",
       "      <th>date</th>\n",
       "      <th>content</th>\n",
       "    </tr>\n",
       "  </thead>\n",
       "  <tbody>\n",
       "    <tr>\n",
       "      <th>0</th>\n",
       "      <td>House Republicans Fret About Winning Their Hea...</td>\n",
       "      <td>New York Times</td>\n",
       "      <td>Carl Hulse</td>\n",
       "      <td>2016-12-31</td>\n",
       "      <td>WASHINGTON  â€”   Congressional Republicans ha...</td>\n",
       "    </tr>\n",
       "    <tr>\n",
       "      <th>1</th>\n",
       "      <td>Rift Between Officers and Residents as Killing...</td>\n",
       "      <td>New York Times</td>\n",
       "      <td>Benjamin Mueller and Al Baker</td>\n",
       "      <td>2017-06-19</td>\n",
       "      <td>After the bullet shells get counted, the blood...</td>\n",
       "    </tr>\n",
       "    <tr>\n",
       "      <th>2</th>\n",
       "      <td>Tyrus Wong, â€˜Bambiâ€™ Artist Thwarted by Rac...</td>\n",
       "      <td>New York Times</td>\n",
       "      <td>Margalit Fox</td>\n",
       "      <td>2017-01-06</td>\n",
       "      <td>When Walt Disneyâ€™s â€œBambiâ€� opened in 194...</td>\n",
       "    </tr>\n",
       "    <tr>\n",
       "      <th>3</th>\n",
       "      <td>Among Deaths in 2016, a Heavy Toll in Pop Musi...</td>\n",
       "      <td>New York Times</td>\n",
       "      <td>William McDonald</td>\n",
       "      <td>2017-04-10</td>\n",
       "      <td>Death may be the great equalizer, but it isnâ€...</td>\n",
       "    </tr>\n",
       "    <tr>\n",
       "      <th>4</th>\n",
       "      <td>Kim Jong-un Says North Korea Is Preparing to T...</td>\n",
       "      <td>New York Times</td>\n",
       "      <td>Choe Sang-Hun</td>\n",
       "      <td>2017-01-02</td>\n",
       "      <td>SEOUL, South Korea  â€”   North Koreaâ€™s lead...</td>\n",
       "    </tr>\n",
       "  </tbody>\n",
       "</table>\n",
       "</div>"
      ],
      "text/plain": [
       "                                               title     publication  \\\n",
       "0  House Republicans Fret About Winning Their Hea...  New York Times   \n",
       "1  Rift Between Officers and Residents as Killing...  New York Times   \n",
       "2  Tyrus Wong, â€˜Bambiâ€™ Artist Thwarted by Rac...  New York Times   \n",
       "3  Among Deaths in 2016, a Heavy Toll in Pop Musi...  New York Times   \n",
       "4  Kim Jong-un Says North Korea Is Preparing to T...  New York Times   \n",
       "\n",
       "                          author        date  \\\n",
       "0                     Carl Hulse  2016-12-31   \n",
       "1  Benjamin Mueller and Al Baker  2017-06-19   \n",
       "2                   Margalit Fox  2017-01-06   \n",
       "3               William McDonald  2017-04-10   \n",
       "4                  Choe Sang-Hun  2017-01-02   \n",
       "\n",
       "                                             content  \n",
       "0  WASHINGTON  â€”   Congressional Republicans ha...  \n",
       "1  After the bullet shells get counted, the blood...  \n",
       "2  When Walt Disneyâ€™s â€œBambiâ€� opened in 194...  \n",
       "3  Death may be the great equalizer, but it isnâ€...  \n",
       "4  SEOUL, South Korea  â€”   North Koreaâ€™s lead...  "
      ]
     },
     "execution_count": 399,
     "metadata": {},
     "output_type": "execute_result"
    }
   ],
   "source": [
    "#Drop unrequired columns\n",
    "df.drop(columns=['Unnamed: 0','id','year','month','url'], inplace=True,axis=1)\n",
    "df.head(5)"
   ]
  },
  {
   "cell_type": "code",
   "execution_count": 400,
   "metadata": {},
   "outputs": [
    {
     "data": {
      "text/plain": [
       "title             0\n",
       "publication       0\n",
       "author         6306\n",
       "date              0\n",
       "content           0\n",
       "dtype: int64"
      ]
     },
     "execution_count": 400,
     "metadata": {},
     "output_type": "execute_result"
    }
   ],
   "source": [
    "#finding null values\n",
    "df.isnull().sum()"
   ]
  },
  {
   "cell_type": "code",
   "execution_count": 401,
   "metadata": {},
   "outputs": [],
   "source": [
    "#Dropping null values\n",
    "df.dropna(subset=['author'],inplace=True)"
   ]
  },
  {
   "cell_type": "code",
   "execution_count": 402,
   "metadata": {},
   "outputs": [
    {
     "data": {
      "text/plain": [
       "Breitbart           23781\n",
       "New York Times       7767\n",
       "CNN                  7025\n",
       "Business Insider     4950\n",
       "Atlantic              171\n",
       "Name: publication, dtype: int64"
      ]
     },
     "execution_count": 402,
     "metadata": {},
     "output_type": "execute_result"
    }
   ],
   "source": [
    "df['publication'].value_counts()"
   ]
  },
  {
   "cell_type": "markdown",
   "metadata": {},
   "source": [
    "# Cleaning and lematizing the dataset"
   ]
  },
  {
   "cell_type": "code",
   "execution_count": 403,
   "metadata": {},
   "outputs": [],
   "source": [
    "import nltk\n",
    "from nltk.tokenize import sent_tokenize,word_tokenize       # importing nltk library\n",
    "from nltk.corpus import stopwords\n",
    "from nltk.stem import PorterStemmer,WordNetLemmatizer\n",
    "import re"
   ]
  },
  {
   "cell_type": "code",
   "execution_count": 404,
   "metadata": {},
   "outputs": [],
   "source": [
    "#Finding out stopwords\n",
    "stopwords=list(stopwords.words('english')) "
   ]
  },
  {
   "cell_type": "code",
   "execution_count": 405,
   "metadata": {},
   "outputs": [],
   "source": [
    "#creating lematized text\n",
    "lemmatizer = nltk.stem.WordNetLemmatizer()\n",
    "def lemmatize_text(content):\n",
    "    text1 = [lemmatizer.lemmatize(w) for w in nltk.word_tokenize(content)]\n",
    "    content =\" \".join(text1)\n",
    "    return content"
   ]
  },
  {
   "cell_type": "code",
   "execution_count": 406,
   "metadata": {},
   "outputs": [],
   "source": [
    "#cleaning of data-removing symbols,digit,underscore\n",
    "def clean_data(content):\n",
    "    content=re.sub(\"<[^>]*>\",\" \",content)                     \n",
    "    content=re.sub(\"https?://[A-Za-z0-9./]+\",\" \",content)    \n",
    "    content=re.sub(\"@[A-Za-z0-9_]+\",\" \",content)                        \n",
    "    content=re.sub(\"#[A-Za-z0-9_]+\",\" \",content)               \n",
    "    content=re.sub(\"_+\",\" \",content)                            \n",
    "    content=re.sub(\"[^a-zA-z]\",\" \",content)                    \n",
    "    content=content.lower()                                   \n",
    "    word_list=word_tokenize(content)\n",
    "    clean_words=[word for word in word_list if not word in stopwords]\n",
    "    content=\" \".join(clean_words) \n",
    "    return content"
   ]
  },
  {
   "cell_type": "code",
   "execution_count": 407,
   "metadata": {},
   "outputs": [],
   "source": [
    "#lematising text data from training set\n",
    "df['clean_data_content']=df['content'].apply(lambda x: clean_data(x)) \n",
    "df['clean_data_title']=df['title'].apply(lambda x: clean_data(x))"
   ]
  },
  {
   "cell_type": "code",
   "execution_count": 408,
   "metadata": {},
   "outputs": [],
   "source": [
    "df['clean_data_content']=df['clean_data_content'].apply(lambda x: lemmatize_text(x)) \n",
    "df['clean_data_title']=df['clean_data_title'].apply(lambda x: lemmatize_text(x))"
   ]
  },
  {
   "cell_type": "code",
   "execution_count": 409,
   "metadata": {},
   "outputs": [],
   "source": [
    "from textblob import TextBlob"
   ]
  },
  {
   "cell_type": "code",
   "execution_count": 410,
   "metadata": {},
   "outputs": [],
   "source": [
    "#finding sentiment of training data\n",
    "def sentiment_calc(content):\n",
    "    try:\n",
    "        Z=TextBlob(content).sentiment.polarity\n",
    "        if(Z < 0):\n",
    "            return \"negative\"\n",
    "        if(Z > 0):\n",
    "            return \"positive\"\n",
    "        else:\n",
    "            return \"neutral\"\n",
    "    except:\n",
    "        return None\n",
    "\n",
    "df['sentiment'] = df['clean_data_title'].apply(sentiment_calc)"
   ]
  },
  {
   "cell_type": "code",
   "execution_count": 411,
   "metadata": {},
   "outputs": [],
   "source": [
    "def sentiment_calc(content):\n",
    "    try:\n",
    "        Z=TextBlob(content).sentiment.subjectivity\n",
    "        if(Z < 0):\n",
    "            return \"bad\"\n",
    "        if(Z > 0):\n",
    "            return \"good\"\n",
    "        else:\n",
    "            return \"normal\"\n",
    "    except:\n",
    "        return None\n",
    "df['sentiment_confidence'] = df['clean_data_title'].apply(sentiment_calc)"
   ]
  },
  {
   "cell_type": "code",
   "execution_count": 412,
   "metadata": {},
   "outputs": [],
   "source": [
    "lem=WordNetLemmatizer()"
   ]
  },
  {
   "cell_type": "code",
   "execution_count": 413,
   "metadata": {},
   "outputs": [],
   "source": [
    "def lemmatizing(clean_data_content):\n",
    "    word_tokens=word_tokenize(clean_data_content)\n",
    "    lemmatized_words=[lem.lemmatize(word) for word in word_tokens]\n",
    "    clean_data_content=' '.join(lemmatized_words)\n",
    "    return clean_data_content"
   ]
  },
  {
   "cell_type": "code",
   "execution_count": 414,
   "metadata": {},
   "outputs": [],
   "source": [
    "df['Lemmatized_Text']=df['clean_data_content'].apply(lambda x: lemmatizing(x))"
   ]
  },
  {
   "cell_type": "code",
   "execution_count": 415,
   "metadata": {},
   "outputs": [],
   "source": [
    "def lemmatizing(clean_data_title):\n",
    "    word_tokens=word_tokenize(clean_data_title)\n",
    "    lemmatized_words=[lem.lemmatize(word) for word in word_tokens]\n",
    "    clean_data_title=' '.join(lemmatized_words)\n",
    "    return clean_data_title"
   ]
  },
  {
   "cell_type": "code",
   "execution_count": 416,
   "metadata": {},
   "outputs": [],
   "source": [
    "df['Lemmatized_Title']=df['clean_data_title'].apply(lambda x: lemmatizing(x))"
   ]
  },
  {
   "cell_type": "code",
   "execution_count": 417,
   "metadata": {},
   "outputs": [
    {
     "data": {
      "text/html": [
       "<div>\n",
       "<style scoped>\n",
       "    .dataframe tbody tr th:only-of-type {\n",
       "        vertical-align: middle;\n",
       "    }\n",
       "\n",
       "    .dataframe tbody tr th {\n",
       "        vertical-align: top;\n",
       "    }\n",
       "\n",
       "    .dataframe thead th {\n",
       "        text-align: right;\n",
       "    }\n",
       "</style>\n",
       "<table border=\"1\" class=\"dataframe\">\n",
       "  <thead>\n",
       "    <tr style=\"text-align: right;\">\n",
       "      <th></th>\n",
       "      <th>title</th>\n",
       "      <th>publication</th>\n",
       "      <th>author</th>\n",
       "      <th>date</th>\n",
       "      <th>content</th>\n",
       "      <th>clean_data_content</th>\n",
       "      <th>clean_data_title</th>\n",
       "      <th>sentiment</th>\n",
       "      <th>sentiment_confidence</th>\n",
       "      <th>Lemmatized_Text</th>\n",
       "      <th>Lemmatized_Title</th>\n",
       "    </tr>\n",
       "  </thead>\n",
       "  <tbody>\n",
       "    <tr>\n",
       "      <th>0</th>\n",
       "      <td>House Republicans Fret About Winning Their Hea...</td>\n",
       "      <td>New York Times</td>\n",
       "      <td>Carl Hulse</td>\n",
       "      <td>2016-12-31</td>\n",
       "      <td>WASHINGTON  â€”   Congressional Republicans ha...</td>\n",
       "      <td>washington congressional republican new fear c...</td>\n",
       "      <td>house republican fret winning health care suit...</td>\n",
       "      <td>positive</td>\n",
       "      <td>good</td>\n",
       "      <td>washington congressional republican new fear c...</td>\n",
       "      <td>house republican fret winning health care suit...</td>\n",
       "    </tr>\n",
       "    <tr>\n",
       "      <th>1</th>\n",
       "      <td>Rift Between Officers and Residents as Killing...</td>\n",
       "      <td>New York Times</td>\n",
       "      <td>Benjamin Mueller and Al Baker</td>\n",
       "      <td>2017-06-19</td>\n",
       "      <td>After the bullet shells get counted, the blood...</td>\n",
       "      <td>bullet shell get counted blood dry votive cand...</td>\n",
       "      <td>rift officer resident killing persist south br...</td>\n",
       "      <td>positive</td>\n",
       "      <td>good</td>\n",
       "      <td>bullet shell get counted blood dry votive cand...</td>\n",
       "      <td>rift officer resident killing persist south br...</td>\n",
       "    </tr>\n",
       "    <tr>\n",
       "      <th>2</th>\n",
       "      <td>Tyrus Wong, â€˜Bambiâ€™ Artist Thwarted by Rac...</td>\n",
       "      <td>New York Times</td>\n",
       "      <td>Margalit Fox</td>\n",
       "      <td>2017-01-06</td>\n",
       "      <td>When Walt Disneyâ€™s â€œBambiâ€� opened in 194...</td>\n",
       "      <td>walt disney bambi opened critic praised spare ...</td>\n",
       "      <td>tyrus wong bambi artist thwarted racial bias d...</td>\n",
       "      <td>positive</td>\n",
       "      <td>good</td>\n",
       "      <td>walt disney bambi opened critic praised spare ...</td>\n",
       "      <td>tyrus wong bambi artist thwarted racial bias d...</td>\n",
       "    </tr>\n",
       "    <tr>\n",
       "      <th>3</th>\n",
       "      <td>Among Deaths in 2016, a Heavy Toll in Pop Musi...</td>\n",
       "      <td>New York Times</td>\n",
       "      <td>William McDonald</td>\n",
       "      <td>2017-04-10</td>\n",
       "      <td>Death may be the great equalizer, but it isnâ€...</td>\n",
       "      <td>death may great equalizer necessarily evenhand...</td>\n",
       "      <td>among death heavy toll pop music new york time</td>\n",
       "      <td>negative</td>\n",
       "      <td>good</td>\n",
       "      <td>death may great equalizer necessarily evenhand...</td>\n",
       "      <td>among death heavy toll pop music new york time</td>\n",
       "    </tr>\n",
       "    <tr>\n",
       "      <th>4</th>\n",
       "      <td>Kim Jong-un Says North Korea Is Preparing to T...</td>\n",
       "      <td>New York Times</td>\n",
       "      <td>Choe Sang-Hun</td>\n",
       "      <td>2017-01-02</td>\n",
       "      <td>SEOUL, South Korea  â€”   North Koreaâ€™s lead...</td>\n",
       "      <td>seoul south korea north korea leader kim said ...</td>\n",
       "      <td>kim jong un say north korea preparing test lon...</td>\n",
       "      <td>positive</td>\n",
       "      <td>good</td>\n",
       "      <td>seoul south korea north korea leader kim said ...</td>\n",
       "      <td>kim jong un say north korea preparing test lon...</td>\n",
       "    </tr>\n",
       "    <tr>\n",
       "      <th>...</th>\n",
       "      <td>...</td>\n",
       "      <td>...</td>\n",
       "      <td>...</td>\n",
       "      <td>...</td>\n",
       "      <td>...</td>\n",
       "      <td>...</td>\n",
       "      <td>...</td>\n",
       "      <td>...</td>\n",
       "      <td>...</td>\n",
       "      <td>...</td>\n",
       "      <td>...</td>\n",
       "    </tr>\n",
       "    <tr>\n",
       "      <th>49995</th>\n",
       "      <td>Rex Tillerson Says Climate Change Is Real, but...</td>\n",
       "      <td>Atlantic</td>\n",
       "      <td>Robinson Meyer</td>\n",
       "      <td>2017-01-11</td>\n",
       "      <td>As chairman and CEO of ExxonMobil, Rex Tillers...</td>\n",
       "      <td>chairman ceo exxonmobil rex tillerson admitted...</td>\n",
       "      <td>rex tillerson say climate change real</td>\n",
       "      <td>positive</td>\n",
       "      <td>good</td>\n",
       "      <td>chairman ceo exxonmobil rex tillerson admitted...</td>\n",
       "      <td>rex tillerson say climate change real</td>\n",
       "    </tr>\n",
       "    <tr>\n",
       "      <th>49996</th>\n",
       "      <td>The Biggest Intelligence Questions Raised by t...</td>\n",
       "      <td>Atlantic</td>\n",
       "      <td>AmyÂ Zegart</td>\n",
       "      <td>2017-01-11</td>\n",
       "      <td>Iâ€™ve spent nearly 20 years looking at intell...</td>\n",
       "      <td>spent nearly year looking intelligence challen...</td>\n",
       "      <td>biggest intelligence question raised trump dos...</td>\n",
       "      <td>neutral</td>\n",
       "      <td>normal</td>\n",
       "      <td>spent nearly year looking intelligence challen...</td>\n",
       "      <td>biggest intelligence question raised trump dos...</td>\n",
       "    </tr>\n",
       "    <tr>\n",
       "      <th>49997</th>\n",
       "      <td>Trump Announces Plan That Does Little to Resol...</td>\n",
       "      <td>Atlantic</td>\n",
       "      <td>Jeremy Venook</td>\n",
       "      <td>2017-01-11</td>\n",
       "      <td>Donald Trump will not be taking necessary st...</td>\n",
       "      <td>donald trump taking necessary step resolve con...</td>\n",
       "      <td>trump announces plan little resolve conflict i...</td>\n",
       "      <td>negative</td>\n",
       "      <td>good</td>\n",
       "      <td>donald trump taking necessary step resolve con...</td>\n",
       "      <td>trump announces plan little resolve conflict i...</td>\n",
       "    </tr>\n",
       "    <tr>\n",
       "      <th>49998</th>\n",
       "      <td>Dozens of For-Profit Colleges Could Soon Close</td>\n",
       "      <td>Atlantic</td>\n",
       "      <td>Emily DeRuy</td>\n",
       "      <td>2017-01-11</td>\n",
       "      <td>Dozens of   colleges could be forced to close ...</td>\n",
       "      <td>dozen college could forced close next several ...</td>\n",
       "      <td>dozen profit college could soon close</td>\n",
       "      <td>neutral</td>\n",
       "      <td>normal</td>\n",
       "      <td>dozen college could forced close next several ...</td>\n",
       "      <td>dozen profit college could soon close</td>\n",
       "    </tr>\n",
       "    <tr>\n",
       "      <th>49999</th>\n",
       "      <td>The Milky Wayâ€™s Stolen Stars</td>\n",
       "      <td>Atlantic</td>\n",
       "      <td>Marina Koren</td>\n",
       "      <td>2017-01-11</td>\n",
       "      <td>The force of gravity can be described using a ...</td>\n",
       "      <td>force gravity described using number metaphor ...</td>\n",
       "      <td>milky way stolen star</td>\n",
       "      <td>neutral</td>\n",
       "      <td>normal</td>\n",
       "      <td>force gravity described using number metaphor ...</td>\n",
       "      <td>milky way stolen star</td>\n",
       "    </tr>\n",
       "  </tbody>\n",
       "</table>\n",
       "<p>43694 rows × 11 columns</p>\n",
       "</div>"
      ],
      "text/plain": [
       "                                                   title     publication  \\\n",
       "0      House Republicans Fret About Winning Their Hea...  New York Times   \n",
       "1      Rift Between Officers and Residents as Killing...  New York Times   \n",
       "2      Tyrus Wong, â€˜Bambiâ€™ Artist Thwarted by Rac...  New York Times   \n",
       "3      Among Deaths in 2016, a Heavy Toll in Pop Musi...  New York Times   \n",
       "4      Kim Jong-un Says North Korea Is Preparing to T...  New York Times   \n",
       "...                                                  ...             ...   \n",
       "49995  Rex Tillerson Says Climate Change Is Real, but...        Atlantic   \n",
       "49996  The Biggest Intelligence Questions Raised by t...        Atlantic   \n",
       "49997  Trump Announces Plan That Does Little to Resol...        Atlantic   \n",
       "49998    Dozens of For-Profit Colleges Could Soon Close         Atlantic   \n",
       "49999                     The Milky Wayâ€™s Stolen Stars        Atlantic   \n",
       "\n",
       "                              author        date  \\\n",
       "0                         Carl Hulse  2016-12-31   \n",
       "1      Benjamin Mueller and Al Baker  2017-06-19   \n",
       "2                       Margalit Fox  2017-01-06   \n",
       "3                   William McDonald  2017-04-10   \n",
       "4                      Choe Sang-Hun  2017-01-02   \n",
       "...                              ...         ...   \n",
       "49995                 Robinson Meyer  2017-01-11   \n",
       "49996                    AmyÂ Zegart  2017-01-11   \n",
       "49997                  Jeremy Venook  2017-01-11   \n",
       "49998                    Emily DeRuy  2017-01-11   \n",
       "49999                   Marina Koren  2017-01-11   \n",
       "\n",
       "                                                 content  \\\n",
       "0      WASHINGTON  â€”   Congressional Republicans ha...   \n",
       "1      After the bullet shells get counted, the blood...   \n",
       "2      When Walt Disneyâ€™s â€œBambiâ€� opened in 194...   \n",
       "3      Death may be the great equalizer, but it isnâ€...   \n",
       "4      SEOUL, South Korea  â€”   North Koreaâ€™s lead...   \n",
       "...                                                  ...   \n",
       "49995  As chairman and CEO of ExxonMobil, Rex Tillers...   \n",
       "49996  Iâ€™ve spent nearly 20 years looking at intell...   \n",
       "49997    Donald Trump will not be taking necessary st...   \n",
       "49998  Dozens of   colleges could be forced to close ...   \n",
       "49999  The force of gravity can be described using a ...   \n",
       "\n",
       "                                      clean_data_content  \\\n",
       "0      washington congressional republican new fear c...   \n",
       "1      bullet shell get counted blood dry votive cand...   \n",
       "2      walt disney bambi opened critic praised spare ...   \n",
       "3      death may great equalizer necessarily evenhand...   \n",
       "4      seoul south korea north korea leader kim said ...   \n",
       "...                                                  ...   \n",
       "49995  chairman ceo exxonmobil rex tillerson admitted...   \n",
       "49996  spent nearly year looking intelligence challen...   \n",
       "49997  donald trump taking necessary step resolve con...   \n",
       "49998  dozen college could forced close next several ...   \n",
       "49999  force gravity described using number metaphor ...   \n",
       "\n",
       "                                        clean_data_title sentiment  \\\n",
       "0      house republican fret winning health care suit...  positive   \n",
       "1      rift officer resident killing persist south br...  positive   \n",
       "2      tyrus wong bambi artist thwarted racial bias d...  positive   \n",
       "3         among death heavy toll pop music new york time  negative   \n",
       "4      kim jong un say north korea preparing test lon...  positive   \n",
       "...                                                  ...       ...   \n",
       "49995              rex tillerson say climate change real  positive   \n",
       "49996  biggest intelligence question raised trump dos...   neutral   \n",
       "49997  trump announces plan little resolve conflict i...  negative   \n",
       "49998              dozen profit college could soon close   neutral   \n",
       "49999                              milky way stolen star   neutral   \n",
       "\n",
       "      sentiment_confidence                                    Lemmatized_Text  \\\n",
       "0                     good  washington congressional republican new fear c...   \n",
       "1                     good  bullet shell get counted blood dry votive cand...   \n",
       "2                     good  walt disney bambi opened critic praised spare ...   \n",
       "3                     good  death may great equalizer necessarily evenhand...   \n",
       "4                     good  seoul south korea north korea leader kim said ...   \n",
       "...                    ...                                                ...   \n",
       "49995                 good  chairman ceo exxonmobil rex tillerson admitted...   \n",
       "49996               normal  spent nearly year looking intelligence challen...   \n",
       "49997                 good  donald trump taking necessary step resolve con...   \n",
       "49998               normal  dozen college could forced close next several ...   \n",
       "49999               normal  force gravity described using number metaphor ...   \n",
       "\n",
       "                                        Lemmatized_Title  \n",
       "0      house republican fret winning health care suit...  \n",
       "1      rift officer resident killing persist south br...  \n",
       "2      tyrus wong bambi artist thwarted racial bias d...  \n",
       "3         among death heavy toll pop music new york time  \n",
       "4      kim jong un say north korea preparing test lon...  \n",
       "...                                                  ...  \n",
       "49995              rex tillerson say climate change real  \n",
       "49996  biggest intelligence question raised trump dos...  \n",
       "49997  trump announces plan little resolve conflict i...  \n",
       "49998              dozen profit college could soon close  \n",
       "49999                              milky way stolen star  \n",
       "\n",
       "[43694 rows x 11 columns]"
      ]
     },
     "execution_count": 417,
     "metadata": {},
     "output_type": "execute_result"
    }
   ],
   "source": [
    "df"
   ]
  },
  {
   "cell_type": "markdown",
   "metadata": {},
   "source": [
    "# EDA on total number of each sentiment"
   ]
  },
  {
   "cell_type": "code",
   "execution_count": 418,
   "metadata": {},
   "outputs": [
    {
     "data": {
      "image/png": "[encoded data removed]",
      "text/plain": [
       "<Figure size 432x288 with 1 Axes>"
      ]
     },
     "metadata": {
      "needs_background": "light"
     },
     "output_type": "display_data"
    }
   ],
   "source": [
    "#ploting graph of sentiment\n",
    "plt.hist(df.sentiment)\n",
    "plt.show()"
   ]
  },
  {
   "cell_type": "code",
   "execution_count": 419,
   "metadata": {},
   "outputs": [
    {
     "data": {
      "image/png": "[encoded data removed]",
      "text/plain": [
       "<Figure size 720x360 with 1 Axes>"
      ]
     },
     "metadata": {
      "needs_background": "light"
     },
     "output_type": "display_data"
    }
   ],
   "source": [
    "plt.figure(figsize=(10,5))\n",
    "sb.countplot(x='sentiment',data=df)\n",
    "plt.xlabel(\"Sentiment\",fontsize=25)\n",
    "plt.ylabel(\"Total amount\",fontsize=25)\n",
    "plt.show()"
   ]
  },
  {
   "cell_type": "code",
   "execution_count": 420,
   "metadata": {},
   "outputs": [],
   "source": [
    "df=df[df['sentiment_confidence']=='good'] #values with sentiment confidence good\n",
    "df=df[df['sentiment']!='neutral'] #dropping neutral sentiment"
   ]
  },
  {
   "cell_type": "code",
   "execution_count": 421,
   "metadata": {},
   "outputs": [],
   "source": [
    "#dropping sentiment confidence\n",
    "df.drop(columns=['sentiment_confidence'], inplace=True,axis=1)"
   ]
  },
  {
   "cell_type": "code",
   "execution_count": 422,
   "metadata": {},
   "outputs": [],
   "source": [
    "# dataset with only positive sentiment\n",
    "df_positive = df[df['sentiment']=='positive']"
   ]
  },
  {
   "cell_type": "code",
   "execution_count": 423,
   "metadata": {},
   "outputs": [],
   "source": [
    "# dataset with only negative sentiment\n",
    "df_negative = df[df['sentiment']=='negative']"
   ]
  },
  {
   "cell_type": "markdown",
   "metadata": {},
   "source": [
    "# Number of positives and negatives by date"
   ]
  },
  {
   "cell_type": "code",
   "execution_count": 424,
   "metadata": {},
   "outputs": [
    {
     "data": {
      "text/plain": [
       "2016-08-22    133\n",
       "2017-04-13     97\n",
       "2017-04-14     90\n",
       "2017-04-07     89\n",
       "2017-04-12     88\n",
       "             ... \n",
       "2015-07-26      1\n",
       "2015-05-12      1\n",
       "2015-01-09      1\n",
       "2015-04-13      1\n",
       "2014-12-10      1\n",
       "Name: date, Length: 713, dtype: int64"
      ]
     },
     "execution_count": 424,
     "metadata": {},
     "output_type": "execute_result"
    }
   ],
   "source": [
    "df_positive['date'].value_counts()"
   ]
  },
  {
   "cell_type": "code",
   "execution_count": 425,
   "metadata": {},
   "outputs": [
    {
     "data": {
      "text/plain": [
       "2017-04-14    35\n",
       "2017-03-03    33\n",
       "2016-07-08    31\n",
       "2016-08-22    29\n",
       "2017-03-17    28\n",
       "              ..\n",
       "2015-05-22     1\n",
       "2015-04-09     1\n",
       "2015-07-01     1\n",
       "2015-03-06     1\n",
       "2015-03-15     1\n",
       "Name: date, Length: 681, dtype: int64"
      ]
     },
     "execution_count": 425,
     "metadata": {},
     "output_type": "execute_result"
    }
   ],
   "source": [
    "df_negative['date'].value_counts()"
   ]
  },
  {
   "cell_type": "code",
   "execution_count": 426,
   "metadata": {},
   "outputs": [
    {
     "data": {
      "image/png": "[encoded data removed]",
      "text/plain": [
       "<Figure size 720x360 with 1 Axes>"
      ]
     },
     "metadata": {
      "needs_background": "light"
     },
     "output_type": "display_data"
    }
   ],
   "source": [
    "plt.figure(figsize=(10,5))\n",
    "sb.countplot(x='date',data=df_positive)\n",
    "plt.xlabel(\"Date\",fontsize=25)\n",
    "plt.ylabel(\"Number of Positives\",fontsize=25)\n",
    "plt.title(\"No of Positives by Date\", fontsize = 25)\n",
    "plt.show()"
   ]
  },
  {
   "cell_type": "code",
   "execution_count": 427,
   "metadata": {},
   "outputs": [
    {
     "data": {
      "image/png": "[encoded data removed]",
      "text/plain": [
       "<Figure size 720x360 with 1 Axes>"
      ]
     },
     "metadata": {
      "needs_background": "light"
     },
     "output_type": "display_data"
    }
   ],
   "source": [
    "plt.figure(figsize=(10,5))\n",
    "sb.countplot(x='date',data=df_negative)\n",
    "plt.xlabel(\"Date\",fontsize=25)\n",
    "plt.ylabel(\"Number of Negatives\",fontsize=25)\n",
    "plt.title(\"No of Negatives by Date\", fontsize = 25)\n",
    "plt.show()"
   ]
  },
  {
   "cell_type": "code",
   "execution_count": 428,
   "metadata": {},
   "outputs": [],
   "source": [
    "#filtering out rows to include three most frequent news stations\n",
    "df1=df[df['publication']=='New York Times']\n",
    "df2=df[df['publication']=='Breitbart']\n",
    "df3=df[df['publication']=='CNN']"
   ]
  },
  {
   "cell_type": "code",
   "execution_count": 429,
   "metadata": {},
   "outputs": [
    {
     "data": {
      "text/plain": [
       "Breitbart         9932\n",
       "New York Times    7767\n",
       "CNN               2392\n",
       "Name: publication, dtype: int64"
      ]
     },
     "execution_count": 429,
     "metadata": {},
     "output_type": "execute_result"
    }
   ],
   "source": [
    "#creating training dataset\n",
    "df_train = pd.concat([df1,df2,df3], ignore_index=True)\n",
    "df_train['publication'].value_counts()"
   ]
  },
  {
   "cell_type": "code",
   "execution_count": 430,
   "metadata": {},
   "outputs": [
    {
     "data": {
      "text/plain": [
       "20091"
      ]
     },
     "execution_count": 430,
     "metadata": {},
     "output_type": "execute_result"
    }
   ],
   "source": [
    "no_of_rows_training = len(df_train.index)\n",
    "no_of_rows_training"
   ]
  },
  {
   "cell_type": "code",
   "execution_count": 431,
   "metadata": {},
   "outputs": [],
   "source": [
    "#creating testing dataset\n",
    "df_test = df[df['publication']=='Business Insider']"
   ]
  },
  {
   "cell_type": "code",
   "execution_count": 432,
   "metadata": {},
   "outputs": [
    {
     "data": {
      "text/plain": [
       "Business Insider    2786\n",
       "Name: publication, dtype: int64"
      ]
     },
     "execution_count": 432,
     "metadata": {},
     "output_type": "execute_result"
    }
   ],
   "source": [
    "df_test['publication'].value_counts()"
   ]
  },
  {
   "cell_type": "code",
   "execution_count": 433,
   "metadata": {},
   "outputs": [
    {
     "data": {
      "text/plain": [
       "2786"
      ]
     },
     "execution_count": 433,
     "metadata": {},
     "output_type": "execute_result"
    }
   ],
   "source": [
    "no_of_rows_testing = len(df_test.index)\n",
    "no_of_rows_testing"
   ]
  },
  {
   "cell_type": "code",
   "execution_count": 434,
   "metadata": {},
   "outputs": [
    {
     "data": {
      "text/plain": [
       "22877"
      ]
     },
     "execution_count": 434,
     "metadata": {},
     "output_type": "execute_result"
    }
   ],
   "source": [
    "total_rows = no_of_rows_training + no_of_rows_testing\n",
    "total_rows"
   ]
  },
  {
   "cell_type": "code",
   "execution_count": 435,
   "metadata": {},
   "outputs": [
    {
     "data": {
      "text/plain": [
       "0.8782182978537396"
      ]
     },
     "execution_count": 435,
     "metadata": {},
     "output_type": "execute_result"
    }
   ],
   "source": [
    "train_ratio = no_of_rows_training/total_rows\n",
    "train_ratio"
   ]
  },
  {
   "cell_type": "code",
   "execution_count": 436,
   "metadata": {},
   "outputs": [
    {
     "data": {
      "text/plain": [
       "0.12178170214626044"
      ]
     },
     "execution_count": 436,
     "metadata": {},
     "output_type": "execute_result"
    }
   ],
   "source": [
    "test_ratio = no_of_rows_testing/total_rows\n",
    "test_ratio"
   ]
  },
  {
   "cell_type": "code",
   "execution_count": 437,
   "metadata": {},
   "outputs": [],
   "source": [
    "df = pd.concat([df_train,df_test], ignore_index=True)"
   ]
  },
  {
   "cell_type": "code",
   "execution_count": 438,
   "metadata": {},
   "outputs": [],
   "source": [
    "#concatinating all independent variables\n",
    "df['exp'] = df['date'].str.cat(df['author'], sep =\" \")\n",
    "df['exp1'] = df['exp'].str.cat(df['publication'], sep =\" \")\n",
    "df['exp2'] = df['exp1'].str.cat(df['Lemmatized_Text'], sep =\" \")\n",
    "df['exp3'] = df['exp2'].str.cat(df['Lemmatized_Title'], sep =\" \")"
   ]
  },
  {
   "cell_type": "code",
   "execution_count": 439,
   "metadata": {},
   "outputs": [
    {
     "data": {
      "text/html": [
       "<div>\n",
       "<style scoped>\n",
       "    .dataframe tbody tr th:only-of-type {\n",
       "        vertical-align: middle;\n",
       "    }\n",
       "\n",
       "    .dataframe tbody tr th {\n",
       "        vertical-align: top;\n",
       "    }\n",
       "\n",
       "    .dataframe thead th {\n",
       "        text-align: right;\n",
       "    }\n",
       "</style>\n",
       "<table border=\"1\" class=\"dataframe\">\n",
       "  <thead>\n",
       "    <tr style=\"text-align: right;\">\n",
       "      <th></th>\n",
       "      <th>title</th>\n",
       "      <th>publication</th>\n",
       "      <th>author</th>\n",
       "      <th>date</th>\n",
       "      <th>content</th>\n",
       "      <th>clean_data_content</th>\n",
       "      <th>clean_data_title</th>\n",
       "      <th>sentiment</th>\n",
       "      <th>Lemmatized_Text</th>\n",
       "      <th>Lemmatized_Title</th>\n",
       "      <th>exp</th>\n",
       "      <th>exp1</th>\n",
       "      <th>exp2</th>\n",
       "      <th>exp3</th>\n",
       "    </tr>\n",
       "  </thead>\n",
       "  <tbody>\n",
       "    <tr>\n",
       "      <th>0</th>\n",
       "      <td>House Republicans Fret About Winning Their Hea...</td>\n",
       "      <td>New York Times</td>\n",
       "      <td>Carl Hulse</td>\n",
       "      <td>2016-12-31</td>\n",
       "      <td>WASHINGTON  â€”   Congressional Republicans ha...</td>\n",
       "      <td>washington congressional republican new fear c...</td>\n",
       "      <td>house republican fret winning health care suit...</td>\n",
       "      <td>positive</td>\n",
       "      <td>washington congressional republican new fear c...</td>\n",
       "      <td>house republican fret winning health care suit...</td>\n",
       "      <td>2016-12-31 Carl Hulse</td>\n",
       "      <td>2016-12-31 Carl Hulse New York Times</td>\n",
       "      <td>2016-12-31 Carl Hulse New York Times washingto...</td>\n",
       "      <td>2016-12-31 Carl Hulse New York Times washingto...</td>\n",
       "    </tr>\n",
       "    <tr>\n",
       "      <th>1</th>\n",
       "      <td>Rift Between Officers and Residents as Killing...</td>\n",
       "      <td>New York Times</td>\n",
       "      <td>Benjamin Mueller and Al Baker</td>\n",
       "      <td>2017-06-19</td>\n",
       "      <td>After the bullet shells get counted, the blood...</td>\n",
       "      <td>bullet shell get counted blood dry votive cand...</td>\n",
       "      <td>rift officer resident killing persist south br...</td>\n",
       "      <td>positive</td>\n",
       "      <td>bullet shell get counted blood dry votive cand...</td>\n",
       "      <td>rift officer resident killing persist south br...</td>\n",
       "      <td>2017-06-19 Benjamin Mueller and Al Baker</td>\n",
       "      <td>2017-06-19 Benjamin Mueller and Al Baker New Y...</td>\n",
       "      <td>2017-06-19 Benjamin Mueller and Al Baker New Y...</td>\n",
       "      <td>2017-06-19 Benjamin Mueller and Al Baker New Y...</td>\n",
       "    </tr>\n",
       "    <tr>\n",
       "      <th>2</th>\n",
       "      <td>Tyrus Wong, â€˜Bambiâ€™ Artist Thwarted by Rac...</td>\n",
       "      <td>New York Times</td>\n",
       "      <td>Margalit Fox</td>\n",
       "      <td>2017-01-06</td>\n",
       "      <td>When Walt Disneyâ€™s â€œBambiâ€� opened in 194...</td>\n",
       "      <td>walt disney bambi opened critic praised spare ...</td>\n",
       "      <td>tyrus wong bambi artist thwarted racial bias d...</td>\n",
       "      <td>positive</td>\n",
       "      <td>walt disney bambi opened critic praised spare ...</td>\n",
       "      <td>tyrus wong bambi artist thwarted racial bias d...</td>\n",
       "      <td>2017-01-06 Margalit Fox</td>\n",
       "      <td>2017-01-06 Margalit Fox New York Times</td>\n",
       "      <td>2017-01-06 Margalit Fox New York Times walt di...</td>\n",
       "      <td>2017-01-06 Margalit Fox New York Times walt di...</td>\n",
       "    </tr>\n",
       "    <tr>\n",
       "      <th>3</th>\n",
       "      <td>Among Deaths in 2016, a Heavy Toll in Pop Musi...</td>\n",
       "      <td>New York Times</td>\n",
       "      <td>William McDonald</td>\n",
       "      <td>2017-04-10</td>\n",
       "      <td>Death may be the great equalizer, but it isnâ€...</td>\n",
       "      <td>death may great equalizer necessarily evenhand...</td>\n",
       "      <td>among death heavy toll pop music new york time</td>\n",
       "      <td>negative</td>\n",
       "      <td>death may great equalizer necessarily evenhand...</td>\n",
       "      <td>among death heavy toll pop music new york time</td>\n",
       "      <td>2017-04-10 William McDonald</td>\n",
       "      <td>2017-04-10 William McDonald New York Times</td>\n",
       "      <td>2017-04-10 William McDonald New York Times dea...</td>\n",
       "      <td>2017-04-10 William McDonald New York Times dea...</td>\n",
       "    </tr>\n",
       "    <tr>\n",
       "      <th>4</th>\n",
       "      <td>Kim Jong-un Says North Korea Is Preparing to T...</td>\n",
       "      <td>New York Times</td>\n",
       "      <td>Choe Sang-Hun</td>\n",
       "      <td>2017-01-02</td>\n",
       "      <td>SEOUL, South Korea  â€”   North Koreaâ€™s lead...</td>\n",
       "      <td>seoul south korea north korea leader kim said ...</td>\n",
       "      <td>kim jong un say north korea preparing test lon...</td>\n",
       "      <td>positive</td>\n",
       "      <td>seoul south korea north korea leader kim said ...</td>\n",
       "      <td>kim jong un say north korea preparing test lon...</td>\n",
       "      <td>2017-01-02 Choe Sang-Hun</td>\n",
       "      <td>2017-01-02 Choe Sang-Hun New York Times</td>\n",
       "      <td>2017-01-02 Choe Sang-Hun New York Times seoul ...</td>\n",
       "      <td>2017-01-02 Choe Sang-Hun New York Times seoul ...</td>\n",
       "    </tr>\n",
       "  </tbody>\n",
       "</table>\n",
       "</div>"
      ],
      "text/plain": [
       "                                               title     publication  \\\n",
       "0  House Republicans Fret About Winning Their Hea...  New York Times   \n",
       "1  Rift Between Officers and Residents as Killing...  New York Times   \n",
       "2  Tyrus Wong, â€˜Bambiâ€™ Artist Thwarted by Rac...  New York Times   \n",
       "3  Among Deaths in 2016, a Heavy Toll in Pop Musi...  New York Times   \n",
       "4  Kim Jong-un Says North Korea Is Preparing to T...  New York Times   \n",
       "\n",
       "                          author        date  \\\n",
       "0                     Carl Hulse  2016-12-31   \n",
       "1  Benjamin Mueller and Al Baker  2017-06-19   \n",
       "2                   Margalit Fox  2017-01-06   \n",
       "3               William McDonald  2017-04-10   \n",
       "4                  Choe Sang-Hun  2017-01-02   \n",
       "\n",
       "                                             content  \\\n",
       "0  WASHINGTON  â€”   Congressional Republicans ha...   \n",
       "1  After the bullet shells get counted, the blood...   \n",
       "2  When Walt Disneyâ€™s â€œBambiâ€� opened in 194...   \n",
       "3  Death may be the great equalizer, but it isnâ€...   \n",
       "4  SEOUL, South Korea  â€”   North Koreaâ€™s lead...   \n",
       "\n",
       "                                  clean_data_content  \\\n",
       "0  washington congressional republican new fear c...   \n",
       "1  bullet shell get counted blood dry votive cand...   \n",
       "2  walt disney bambi opened critic praised spare ...   \n",
       "3  death may great equalizer necessarily evenhand...   \n",
       "4  seoul south korea north korea leader kim said ...   \n",
       "\n",
       "                                    clean_data_title sentiment  \\\n",
       "0  house republican fret winning health care suit...  positive   \n",
       "1  rift officer resident killing persist south br...  positive   \n",
       "2  tyrus wong bambi artist thwarted racial bias d...  positive   \n",
       "3     among death heavy toll pop music new york time  negative   \n",
       "4  kim jong un say north korea preparing test lon...  positive   \n",
       "\n",
       "                                     Lemmatized_Text  \\\n",
       "0  washington congressional republican new fear c...   \n",
       "1  bullet shell get counted blood dry votive cand...   \n",
       "2  walt disney bambi opened critic praised spare ...   \n",
       "3  death may great equalizer necessarily evenhand...   \n",
       "4  seoul south korea north korea leader kim said ...   \n",
       "\n",
       "                                    Lemmatized_Title  \\\n",
       "0  house republican fret winning health care suit...   \n",
       "1  rift officer resident killing persist south br...   \n",
       "2  tyrus wong bambi artist thwarted racial bias d...   \n",
       "3     among death heavy toll pop music new york time   \n",
       "4  kim jong un say north korea preparing test lon...   \n",
       "\n",
       "                                        exp  \\\n",
       "0                     2016-12-31 Carl Hulse   \n",
       "1  2017-06-19 Benjamin Mueller and Al Baker   \n",
       "2                   2017-01-06 Margalit Fox   \n",
       "3               2017-04-10 William McDonald   \n",
       "4                  2017-01-02 Choe Sang-Hun   \n",
       "\n",
       "                                                exp1  \\\n",
       "0               2016-12-31 Carl Hulse New York Times   \n",
       "1  2017-06-19 Benjamin Mueller and Al Baker New Y...   \n",
       "2             2017-01-06 Margalit Fox New York Times   \n",
       "3         2017-04-10 William McDonald New York Times   \n",
       "4            2017-01-02 Choe Sang-Hun New York Times   \n",
       "\n",
       "                                                exp2  \\\n",
       "0  2016-12-31 Carl Hulse New York Times washingto...   \n",
       "1  2017-06-19 Benjamin Mueller and Al Baker New Y...   \n",
       "2  2017-01-06 Margalit Fox New York Times walt di...   \n",
       "3  2017-04-10 William McDonald New York Times dea...   \n",
       "4  2017-01-02 Choe Sang-Hun New York Times seoul ...   \n",
       "\n",
       "                                                exp3  \n",
       "0  2016-12-31 Carl Hulse New York Times washingto...  \n",
       "1  2017-06-19 Benjamin Mueller and Al Baker New Y...  \n",
       "2  2017-01-06 Margalit Fox New York Times walt di...  \n",
       "3  2017-04-10 William McDonald New York Times dea...  \n",
       "4  2017-01-02 Choe Sang-Hun New York Times seoul ...  "
      ]
     },
     "execution_count": 439,
     "metadata": {},
     "output_type": "execute_result"
    }
   ],
   "source": [
    "df.head()"
   ]
  },
  {
   "cell_type": "markdown",
   "metadata": {},
   "source": [
    "# Predicting sentiment"
   ]
  },
  {
   "cell_type": "code",
   "execution_count": 440,
   "metadata": {},
   "outputs": [],
   "source": [
    "#importing countvectorize\n",
    "from sklearn.feature_extraction.text import CountVectorizer\n",
    "cv=CountVectorizer()"
   ]
  },
  {
   "cell_type": "code",
   "execution_count": 441,
   "metadata": {},
   "outputs": [],
   "source": [
    "X = cv.fit_transform(df['exp3'].values)\n",
    "Y =(df['sentiment'])"
   ]
  },
  {
   "cell_type": "code",
   "execution_count": 442,
   "metadata": {},
   "outputs": [],
   "source": [
    "#Importing trainb test split\n",
    "from sklearn.model_selection import train_test_split"
   ]
  },
  {
   "cell_type": "code",
   "execution_count": 443,
   "metadata": {},
   "outputs": [],
   "source": [
    "X_train, X_test, Y_train, Y_test = train_test_split(X,Y,test_size = test_ratio)"
   ]
  },
  {
   "cell_type": "code",
   "execution_count": 444,
   "metadata": {},
   "outputs": [
    {
     "data": {
      "text/plain": [
       "((20091, 107883), (2786, 107883), (20091,), (2786,))"
      ]
     },
     "execution_count": 444,
     "metadata": {},
     "output_type": "execute_result"
    }
   ],
   "source": [
    "X_train.shape, X_test.shape, Y_train.shape, Y_test.shape"
   ]
  },
  {
   "cell_type": "code",
   "execution_count": 445,
   "metadata": {},
   "outputs": [],
   "source": [
    "from sklearn.naive_bayes import MultinomialNB\n",
    "nv = MultinomialNB()\n",
    "from sklearn.ensemble import RandomForestClassifier"
   ]
  },
  {
   "cell_type": "code",
   "execution_count": 446,
   "metadata": {},
   "outputs": [],
   "source": [
    "from sklearn.metrics import accuracy_score"
   ]
  },
  {
   "cell_type": "markdown",
   "metadata": {},
   "source": [
    "# Random Forest"
   ]
  },
  {
   "cell_type": "code",
   "execution_count": 447,
   "metadata": {},
   "outputs": [],
   "source": [
    "rfc = RandomForestClassifier()"
   ]
  },
  {
   "cell_type": "code",
   "execution_count": 448,
   "metadata": {},
   "outputs": [
    {
     "data": {
      "text/plain": [
       "RandomForestClassifier()"
      ]
     },
     "execution_count": 448,
     "metadata": {},
     "output_type": "execute_result"
    }
   ],
   "source": [
    "rfc.fit(X_train,Y_train)"
   ]
  },
  {
   "cell_type": "code",
   "execution_count": 449,
   "metadata": {},
   "outputs": [],
   "source": [
    "y_pred_rfc = rfc.predict(X_test)"
   ]
  },
  {
   "cell_type": "code",
   "execution_count": 450,
   "metadata": {},
   "outputs": [
    {
     "name": "stdout",
     "output_type": "stream",
     "text": [
      "0.702440775305097\n"
     ]
    }
   ],
   "source": [
    "rfc_score=accuracy_score(y_pred_rfc, Y_test)\n",
    "print(rfc_score)"
   ]
  },
  {
   "cell_type": "markdown",
   "metadata": {},
   "source": [
    "# Naves Bayes"
   ]
  },
  {
   "cell_type": "code",
   "execution_count": 451,
   "metadata": {},
   "outputs": [
    {
     "data": {
      "text/plain": [
       "MultinomialNB()"
      ]
     },
     "execution_count": 451,
     "metadata": {},
     "output_type": "execute_result"
    }
   ],
   "source": [
    "nv.fit(X_train,Y_train)"
   ]
  },
  {
   "cell_type": "code",
   "execution_count": 452,
   "metadata": {},
   "outputs": [],
   "source": [
    "y_pred_niv = nv.predict(X_test)"
   ]
  },
  {
   "cell_type": "code",
   "execution_count": 453,
   "metadata": {},
   "outputs": [
    {
     "name": "stdout",
     "output_type": "stream",
     "text": [
      "0.6651112706389088\n"
     ]
    }
   ],
   "source": [
    "niv_score=accuracy_score(y_pred_niv, Y_test)\n",
    "print(niv_score)"
   ]
  },
  {
   "cell_type": "markdown",
   "metadata": {},
   "source": [
    "# SVM"
   ]
  },
  {
   "cell_type": "code",
   "execution_count": 454,
   "metadata": {},
   "outputs": [],
   "source": [
    "from sklearn.svm import SVC"
   ]
  },
  {
   "cell_type": "code",
   "execution_count": 455,
   "metadata": {},
   "outputs": [],
   "source": [
    "svc = SVC()"
   ]
  },
  {
   "cell_type": "code",
   "execution_count": 456,
   "metadata": {},
   "outputs": [
    {
     "data": {
      "text/plain": [
       "SVC()"
      ]
     },
     "execution_count": 456,
     "metadata": {},
     "output_type": "execute_result"
    }
   ],
   "source": [
    "svc.fit(X_train,Y_train)"
   ]
  },
  {
   "cell_type": "code",
   "execution_count": 457,
   "metadata": {},
   "outputs": [],
   "source": [
    "y_pred_svc = svc.predict(X_test)"
   ]
  },
  {
   "cell_type": "code",
   "execution_count": 458,
   "metadata": {},
   "outputs": [
    {
     "name": "stdout",
     "output_type": "stream",
     "text": [
      "0.7315147164393395\n"
     ]
    }
   ],
   "source": [
    "svc_score=accuracy_score(y_pred_svc, Y_test)\n",
    "print(svc_score)"
   ]
  },
  {
   "cell_type": "code",
   "execution_count": 459,
   "metadata": {},
   "outputs": [
    {
     "name": "stdout",
     "output_type": "stream",
     "text": [
      "the best algorithm is SVC :0.731515\n"
     ]
    }
   ],
   "source": [
    "score=max(rfc_score,svc_score,niv_score)\n",
    "if(score==rfc_score):\n",
    "    print(\"the best algorithm is RANDOM FOREST :%f\" %score)\n",
    "if(score==svc_score):\n",
    "    print(\"the best algorithm is SVC :%f\" %score)\n",
    "if(score==niv_score):\n",
    "    print(\"the best algorithm is NAIVE BAYES :%f\" %score)"
   ]
  },
  {
   "cell_type": "code",
   "execution_count": null,
   "metadata": {},
   "outputs": [],
   "source": []
  },
  {
   "cell_type": "code",
   "execution_count": null,
   "metadata": {},
   "outputs": [],
   "source": []
  },
  {
   "cell_type": "code",
   "execution_count": null,
   "metadata": {},
   "outputs": [],
   "source": []
  },
  {
   "cell_type": "code",
   "execution_count": null,
   "metadata": {},
   "outputs": [],
   "source": []
  }
 ],
 "metadata": {
  "kernelspec": {
   "display_name": "Python 3",
   "language": "python",
   "name": "python3"
  },
  "language_info": {
   "codemirror_mode": {
    "name": "ipython",
    "version": 3
   },
   "file_extension": ".py",
   "mimetype": "text/x-python",
   "name": "python",
   "nbconvert_exporter": "python",
   "pygments_lexer": "ipython3",
   "version": "3.8.3"
  }
 },
 "nbformat": 4,
 "nbformat_minor": 4
}
